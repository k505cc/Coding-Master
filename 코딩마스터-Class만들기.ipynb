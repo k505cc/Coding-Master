{
 "cells": [
  {
   "cell_type": "markdown",
   "metadata": {},
   "source": [
    "# Class 함수 만들어보기 "
   ]
  },
  {
   "cell_type": "code",
   "execution_count": 41,
   "metadata": {},
   "outputs": [
    {
     "ename": "SyntaxError",
     "evalue": "unexpected EOF while parsing (<ipython-input-41-6059d7d15532>, line 1)",
     "output_type": "error",
     "traceback": [
      "\u001b[0;36m  File \u001b[0;32m\"<ipython-input-41-6059d7d15532>\"\u001b[0;36m, line \u001b[0;32m1\u001b[0m\n\u001b[0;31m    class eat_this: #eat_this 클래스 생성\u001b[0m\n\u001b[0m                                    ^\u001b[0m\n\u001b[0;31mSyntaxError\u001b[0m\u001b[0;31m:\u001b[0m unexpected EOF while parsing\n"
     ]
    }
   ],
   "source": [
    "class eat_this: #eat_this 클래스 생성"
   ]
  },
  {
   "cell_type": "code",
   "execution_count": 50,
   "metadata": {},
   "outputs": [
    {
     "name": "stdout",
     "output_type": "stream",
     "text": [
      "오늘은 고구마1개 먹는 날, 맛있는 저녁 드세요!\n"
     ]
    }
   ],
   "source": [
    "import random\n",
    "\n",
    "abc =[\"볶음밥\", \"편의점 김밥\", \"순두부찌개\", \"버거킹\", \"굶는다\", \"샐러드\", \"고구마1개\", \"삶은달걀\", \"라면\", \"짜파게티\", \"엄마가 보내준 곰탕\"]\n",
    "random.choice(abc)\n",
    "print (\"오늘은 \"+ random.choice(abc) +\" 먹는 날, 맛있는 저녁 드세요!\")"
   ]
  },
  {
   "cell_type": "code",
   "execution_count": null,
   "metadata": {},
   "outputs": [],
   "source": []
  }
 ],
 "metadata": {
  "kernelspec": {
   "display_name": "Python 3",
   "language": "python",
   "name": "python3"
  },
  "language_info": {
   "codemirror_mode": {
    "name": "ipython",
    "version": 3
   },
   "file_extension": ".py",
   "mimetype": "text/x-python",
   "name": "python",
   "nbconvert_exporter": "python",
   "pygments_lexer": "ipython3",
   "version": "3.7.9"
  }
 },
 "nbformat": 4,
 "nbformat_minor": 4
}
