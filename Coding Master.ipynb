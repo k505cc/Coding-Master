{
 "cells": [
  {
   "cell_type": "code",
   "execution_count": null,
   "metadata": {},
   "outputs": [],
   "source": [
    "# Ctrol + ? = 빠른 주석 처리!"
   ]
  },
  {
   "cell_type": "markdown",
   "metadata": {},
   "source": [
    "### 7장 배열"
   ]
  },
  {
   "cell_type": "markdown",
   "metadata": {},
   "source": [
    "Dictionary [Dict]    \n",
    "* Key와 Value 형태의 타입   \n",
    "* Key로 자물쇠를 열어서 value를 꺼낸다고 생각!   \n",
    "* value에 아무값이나 들어갈 수 있음   "
   ]
  },
  {
   "cell_type": "code",
   "execution_count": 15,
   "metadata": {},
   "outputs": [],
   "source": [
    "dict_1= {\"key\":\"abc\"} \n",
    "dict_2= {\"key\":[1,2,3,]}"
   ]
  },
  {
   "cell_type": "code",
   "execution_count": 17,
   "metadata": {},
   "outputs": [
    {
     "ename": "TypeError",
     "evalue": "'dict' object is not callable",
     "output_type": "error",
     "traceback": [
      "\u001b[0;31m---------------------------------------------------------------------------\u001b[0m",
      "\u001b[0;31mTypeError\u001b[0m                                 Traceback (most recent call last)",
      "\u001b[0;32m<ipython-input-17-1ec509fbfead>\u001b[0m in \u001b[0;36m<module>\u001b[0;34m\u001b[0m\n\u001b[0;32m----> 1\u001b[0;31m \u001b[0mPrint\u001b[0m\u001b[0;34m(\u001b[0m\u001b[0mdict_1\u001b[0m\u001b[0;34m[\u001b[0m\u001b[0;34m\"key\"\u001b[0m\u001b[0;34m]\u001b[0m\u001b[0;34m)\u001b[0m\u001b[0;34m\u001b[0m\u001b[0;34m\u001b[0m\u001b[0m\n\u001b[0m",
      "\u001b[0;31mTypeError\u001b[0m: 'dict' object is not callable"
     ]
    }
   ],
   "source": [
    "Print(dict_1[\"key\"])"
   ]
  },
  {
   "cell_type": "markdown",
   "metadata": {},
   "source": [
    "### 반복문   \n",
    "함수를 반복하는 것 "
   ]
  },
  {
   "cell_type": "markdown",
   "metadata": {},
   "source": [
    "### for + list   \n",
    "List comprehension   \n",
    "* List안에 for 문 "
   ]
  },
  {
   "cell_type": "markdown",
   "metadata": {},
   "source": [
    "_list = [i for i in somethings]"
   ]
  },
  {
   "cell_type": "code",
   "execution_count": 20,
   "metadata": {},
   "outputs": [
    {
     "name": "stdout",
     "output_type": "stream",
     "text": [
      "[1, 2, 3, 4, 5, 6, 7, 8, 9, 10, 11, 12, 13, 14, 15, 16, 17, 18, 19, 20, 21, 22, 23, 24, 25, 26, 27, 28, 29, 30, 31, 32, 33, 34, 35, 36, 37, 38, 39, 40, 41, 42, 43, 44, 45, 46, 47, 48, 49, 50, 51, 52, 53, 54, 55, 56, 57, 58, 59, 60, 61, 62, 63, 64, 65, 66, 67, 68, 69, 70, 71, 72, 73, 74, 75, 76, 77, 78, 79, 80, 81, 82, 83, 84, 85, 86, 87, 88, 89, 90, 91, 92, 93, 94, 95, 96, 97, 98, 99, 100]\n"
     ]
    }
   ],
   "source": [
    "one_to_hundred= [i for i in range (1,101)]\n",
    "print(one_to_hundred)"
   ]
  },
  {
   "cell_type": "code",
   "execution_count": 24,
   "metadata": {},
   "outputs": [
    {
     "name": "stdout",
     "output_type": "stream",
     "text": [
      "[100, 99, 98, 97, 96, 95, 94, 93, 92, 91, 90, 89, 88, 87, 86, 85, 84, 83, 82, 81, 80, 79, 78, 77, 76, 75, 74, 73, 72, 71, 70, 69, 68, 67, 66, 65, 64, 63, 62, 61, 60, 59, 58, 57, 56, 55, 54, 53, 52, 51, 50, 49, 48, 47, 46, 45, 44, 43, 42, 41, 40, 39, 38, 37, 36, 35, 34, 33, 32, 31, 30, 29, 28, 27, 26, 25, 24, 23, 22, 21, 20, 19, 18, 17, 16, 15, 14, 13, 12, 11, 10, 9, 8, 7, 6, 5, 4, 3, 2, 1]\n"
     ]
    }
   ],
   "source": [
    "#거꾸로 돌리기 \n",
    "hundred_to_one= [i for i in range (100,0,-1)]\n",
    "print(hundred_to_one)"
   ]
  },
  {
   "cell_type": "code",
   "execution_count": 25,
   "metadata": {},
   "outputs": [
    {
     "name": "stdout",
     "output_type": "stream",
     "text": [
      "[2, 4, 6, 8, 10, 12, 14, 16, 18, 20, 22, 24, 26, 28, 30, 32, 34, 36, 38, 40, 42, 44, 46, 48, 50, 52, 54, 56, 58, 60, 62, 64, 66, 68, 70, 72, 74, 76, 78, 80, 82, 84, 86, 88, 90, 92, 94, 96, 98, 100]\n"
     ]
    }
   ],
   "source": [
    "#짝수만\n",
    "짝수만 = [i for i in one_to_hundred if i %2 == 0 ]\n",
    "print (짝수만)"
   ]
  },
  {
   "cell_type": "code",
   "execution_count": 29,
   "metadata": {},
   "outputs": [
    {
     "name": "stdout",
     "output_type": "stream",
     "text": [
      "['x', 2, 'x', 4, 'x', 6, 'x', 8, 'x', 10, 'x', 12, 'x', 14, 'x', 16, 'x', 18, 'x', 20, 'x', 22, 'x', 24, 'x', 26, 'x', 28, 'x', 30, 'x', 32, 'x', 34, 'x', 36, 'x', 38, 'x', 40, 'x', 42, 'x', 44, 'x', 46, 'x', 48, 'x', 50, 'x', 52, 'x', 54, 'x', 56, 'x', 58, 'x', 60, 'x', 62, 'x', 64, 'x', 66, 'x', 68, 'x', 70, 'x', 72, 'x', 74, 'x', 76, 'x', 78, 'x', 80, 'x', 82, 'x', 84, 'x', 86, 'x', 88, 'x', 90, 'x', 92, 'x', 94, 'x', 96, 'x', 98, 'x', 100]\n"
     ]
    }
   ],
   "source": [
    "# * if else절은 앞에 들어오고, 뒤에 for 문이 들어옴    \n",
    "# if ~~ 이면 A, else (아니면~) B, for Range  형태  \n",
    "\n",
    "짝수가아니면_x=[i if i%2 == 0 else \"x\" for i in one_to_hundred]\n",
    "print(짝수가아니면_x)"
   ]
  },
  {
   "cell_type": "code",
   "execution_count": 30,
   "metadata": {},
   "outputs": [
    {
     "name": "stdout",
     "output_type": "stream",
     "text": [
      "[(0, 0), (0, 1), (0, 2), (0, 3), (0, 4), (1, 0), (1, 1), (1, 2), (1, 3), (1, 4), (2, 0), (2, 1), (2, 2), (2, 3), (2, 4), (3, 0), (3, 1), (3, 2), (3, 3), (3, 4), (4, 0), (4, 1), (4, 2), (4, 3), (4, 4)]\n"
     ]
    }
   ],
   "source": [
    "#리스트 안에 for문의 for문 \n",
    "#영어로 표현하자면, for A, Range (a), for B, Range(b) \n",
    "\n",
    "for_and_for= [(i,j) for i in range(5) for j in range(5)]\n",
    "print(for_and_for)"
   ]
  },
  {
   "cell_type": "markdown",
   "metadata": {},
   "source": [
    "### 함수   \n",
    "return 값이 변수로 들어감   \n",
    "\n",
    "변수 = 함수 (input) \n"
   ]
  },
  {
   "cell_type": "code",
   "execution_count": 34,
   "metadata": {},
   "outputs": [
    {
     "name": "stdout",
     "output_type": "stream",
     "text": [
      "1\n",
      "<class 'int'>\n",
      "1\n",
      "<class 'str'>\n"
     ]
    }
   ],
   "source": [
    "#input과 output이 있는 함수 \n",
    "#int를 str로 바꿔주는 것 \n",
    "\n",
    "def int_to_str(num):\n",
    "    string_num = str(num)\n",
    "    return string_num\n",
    "\n",
    "\n",
    "number = 1 \n",
    "string_number = int_to_str(number)\n",
    "print(number)\n",
    "print(type(number)) #number = 1 \n",
    "print(string_number)\n",
    "print(type(string_number)) #string_number = int_to_str(number)"
   ]
  },
  {
   "cell_type": "code",
   "execution_count": 35,
   "metadata": {},
   "outputs": [
    {
     "data": {
      "text/plain": [
       "0.036870060321827956"
      ]
     },
     "execution_count": 35,
     "metadata": {},
     "output_type": "execute_result"
    }
   ],
   "source": [
    "#output만 있는 함수\n",
    "\n",
    "import random \n",
    "\n",
    "def random_float(): \n",
    "        randint_1 = random.randint(0, 999999) #랜덤으로 정수 뽑기\n",
    "        randint_2 = random.randint(0, 999999) #랜덤으로 정수 뽑기\n",
    "        return randint_1/ randint_2 #randint_1를 randint_2로 나눠줌 \n",
    "    \n",
    "random_float()"
   ]
  },
  {
   "cell_type": "code",
   "execution_count": 44,
   "metadata": {},
   "outputs": [
    {
     "name": "stdout",
     "output_type": "stream",
     "text": [
      "김가영\n"
     ]
    }
   ],
   "source": [
    "#input & output 둘다 없는 함수 \n",
    "\n",
    "def print_my_name(): \n",
    "    print(\"김가영\")\n",
    "    \n",
    "print_my_name()"
   ]
  },
  {
   "cell_type": "code",
   "execution_count": 43,
   "metadata": {},
   "outputs": [
    {
     "name": "stdout",
     "output_type": "stream",
     "text": [
      "김가영\n"
     ]
    }
   ],
   "source": [
    "print_my_name()"
   ]
  },
  {
   "cell_type": "markdown",
   "metadata": {},
   "source": [
    "### 함수의 세계 & 비함수의 세계\n",
    "\n",
    "지역 변수와 전역 변수 \n",
    "전역 변수는 지역 변수에 영향 줌.   \n",
    "\n",
    "지역 변수는 전역 변수에 영향 X줌. \n"
   ]
  },
  {
   "cell_type": "code",
   "execution_count": 51,
   "metadata": {},
   "outputs": [
    {
     "name": "stdout",
     "output_type": "stream",
     "text": [
      "['난', '전', '역', '변', '수']\n"
     ]
    },
    {
     "ename": "NameError",
     "evalue": "name '난지역변수' is not defined",
     "output_type": "error",
     "traceback": [
      "\u001b[0;31m---------------------------------------------------------------------------\u001b[0m",
      "\u001b[0;31mNameError\u001b[0m                                 Traceback (most recent call last)",
      "\u001b[0;32m<ipython-input-51-2093ea351489>\u001b[0m in \u001b[0;36m<module>\u001b[0;34m\u001b[0m\n\u001b[1;32m      9\u001b[0m \u001b[0mcheck\u001b[0m \u001b[0;34m=\u001b[0m \u001b[0mcheck\u001b[0m\u001b[0;34m(\u001b[0m\u001b[0;34m)\u001b[0m\u001b[0;34m\u001b[0m\u001b[0;34m\u001b[0m\u001b[0m\n\u001b[1;32m     10\u001b[0m \u001b[0mprint\u001b[0m\u001b[0;34m(\u001b[0m\u001b[0m난전역변수\u001b[0m\u001b[0;34m)\u001b[0m\u001b[0;34m\u001b[0m\u001b[0;34m\u001b[0m\u001b[0m\n\u001b[0;32m---> 11\u001b[0;31m \u001b[0mPrint\u001b[0m\u001b[0;34m(\u001b[0m\u001b[0m난지역변수\u001b[0m\u001b[0;34m)\u001b[0m\u001b[0;34m\u001b[0m\u001b[0;34m\u001b[0m\u001b[0m\n\u001b[0m\u001b[1;32m     12\u001b[0m \u001b[0mpritn\u001b[0m\u001b[0;34m(\u001b[0m\u001b[0m난두개더한거\u001b[0m\u001b[0;34m)\u001b[0m\u001b[0;34m\u001b[0m\u001b[0;34m\u001b[0m\u001b[0m\n",
      "\u001b[0;31mNameError\u001b[0m: name '난지역변수' is not defined"
     ]
    }
   ],
   "source": [
    "난전역변수 = [\"난\", \"전\", \"역\", \"변\", \"수\"] \n",
    "\n",
    "def check():\n",
    "    #지역변수 \n",
    "    난지역변수= [\"난\", \"지\", \"역\", \"변\", \"수\"] \n",
    "    난두개더한거= 난전역변수 + 난지역변수 \n",
    "    return 난두개더한거 #여기서 return은 \"난두개더한거\"의 값만 나오게 하는 것 \n",
    "\n",
    "check = check()\n",
    "print(난전역변수) #이 변수는 global 변수로서 나옴 \n",
    "Print(난지역변수)\n",
    "pritn(난두개더한거)"
   ]
  },
  {
   "cell_type": "markdown",
   "metadata": {},
   "source": [
    "### 인자의 특징   \n",
    "*인자를 여러개 넣어줄 수 있음\n",
    "* default 설정값을 정해줄 수 있음 "
   ]
  },
  {
   "cell_type": "code",
   "execution_count": 53,
   "metadata": {},
   "outputs": [
    {
     "name": "stdout",
     "output_type": "stream",
     "text": [
      "김가영 이쁨\n"
     ]
    }
   ],
   "source": [
    "def merge_word(a,b):\n",
    "    word = a + b\n",
    "    return word \n",
    "word = merge_word (\"김가영\", \" 이쁨\")\n",
    "print(word)"
   ]
  },
  {
   "cell_type": "code",
   "execution_count": null,
   "metadata": {},
   "outputs": [],
   "source": []
  },
  {
   "cell_type": "code",
   "execution_count": 54,
   "metadata": {},
   "outputs": [
    {
     "name": "stdout",
     "output_type": "stream",
     "text": [
      "12\n"
     ]
    }
   ],
   "source": [
    "#merge_word를 str이 아닌 int를 넣어서 작동하게 할 수도 있다.\n",
    "\n",
    "word = merge_word (\"1\", \"2\")\n",
    "print(word)"
   ]
  },
  {
   "cell_type": "code",
   "execution_count": 57,
   "metadata": {},
   "outputs": [
    {
     "ename": "SyntaxError",
     "evalue": "non-default argument follows default argument (<ipython-input-57-b6081e87df8a>, line 1)",
     "output_type": "error",
     "traceback": [
      "\u001b[0;36m  File \u001b[0;32m\"<ipython-input-57-b6081e87df8a>\"\u001b[0;36m, line \u001b[0;32m1\u001b[0m\n\u001b[0;31m    def arguments_test(a=[1,2,3,], b):\u001b[0m\n\u001b[0m                      ^\u001b[0m\n\u001b[0;31mSyntaxError\u001b[0m\u001b[0;31m:\u001b[0m non-default argument follows default argument\n"
     ]
    }
   ],
   "source": [
    "def arguments_test(a=[1,2,3,], b):\n",
    "    print (a,b)"
   ]
  },
  {
   "cell_type": "code",
   "execution_count": 60,
   "metadata": {},
   "outputs": [
    {
     "ename": "SyntaxError",
     "evalue": "invalid syntax (<ipython-input-60-470458ce218e>, line 2)",
     "output_type": "error",
     "traceback": [
      "\u001b[0;36m  File \u001b[0;32m\"<ipython-input-60-470458ce218e>\"\u001b[0;36m, line \u001b[0;32m2\u001b[0m\n\u001b[0;31m    def argumentstest(b,c=1, a=[1,2,3])\u001b[0m\n\u001b[0m                                       ^\u001b[0m\n\u001b[0;31mSyntaxError\u001b[0m\u001b[0;31m:\u001b[0m invalid syntax\n"
     ]
    }
   ],
   "source": [
    "#위와 같은 경우 아래와 같이 해주어야함\n",
    "def argumentstest(b,c=1, a=[1,2,3])\n",
    "    print(a,b,c)"
   ]
  },
  {
   "cell_type": "code",
   "execution_count": null,
   "metadata": {},
   "outputs": [],
   "source": [
    "### 데코레이터 함수 \n",
    "\n",
    "def 난데코레이터(함수): \n",
    "    def decorator (*args):\n",
    "        print(\"Hellow~\")\n",
    "        "
   ]
  },
  {
   "cell_type": "markdown",
   "metadata": {},
   "source": [
    "---\n"
   ]
  },
  {
   "cell_type": "markdown",
   "metadata": {},
   "source": [
    "### Class 함수 (어렵지만 중요함)    \n",
    "- 객체 지향의 꽃   \n",
    "- Class 안에 함수는 \"메소드\"라고도 부름"
   ]
  },
  {
   "cell_type": "markdown",
   "metadata": {},
   "source": [
    "#클래스를 변수에 담는것을 Instance화 라고 함.    \n",
    "안에 변수를 instance라고 함 \n",
    "변수 = 클래스 ()"
   ]
  },
  {
   "cell_type": "code",
   "execution_count": 112,
   "metadata": {},
   "outputs": [
    {
     "name": "stdout",
     "output_type": "stream",
     "text": [
      "['짜파게티']\n"
     ]
    }
   ],
   "source": [
    "# Class 함수 만들어보기 \n",
    "\n",
    "class eat_this: #eat_this 클래스 생성\n",
    "\n",
    "    import random \n",
    "    \n",
    "    def random():\n",
    "        s = random.sample(오늘의저녁, 1)\n",
    "        오늘의저녁 = [\"볶음밥\", \"편의점 김밥\", \"순두부찌개\", \"버거킹\", \"굶는다\", \"샐러드\", \"고구마1개\", \"삶은달걀\", \"라면\", \"짜파게티\", \"엄마가 보내준 곰탕\"]\n",
    "    print(s) "
   ]
  },
  {
   "cell_type": "code",
   "execution_count": null,
   "metadata": {},
   "outputs": [],
   "source": []
  },
  {
   "cell_type": "code",
   "execution_count": null,
   "metadata": {},
   "outputs": [],
   "source": []
  },
  {
   "cell_type": "code",
   "execution_count": null,
   "metadata": {},
   "outputs": [],
   "source": []
  }
 ],
 "metadata": {
  "kernelspec": {
   "display_name": "Python 3",
   "language": "python",
   "name": "python3"
  },
  "language_info": {
   "codemirror_mode": {
    "name": "ipython",
    "version": 3
   },
   "file_extension": ".py",
   "mimetype": "text/x-python",
   "name": "python",
   "nbconvert_exporter": "python",
   "pygments_lexer": "ipython3",
   "version": "3.7.9"
  }
 },
 "nbformat": 4,
 "nbformat_minor": 4
}
